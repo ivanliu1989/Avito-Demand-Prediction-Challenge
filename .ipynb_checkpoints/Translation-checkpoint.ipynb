{
 "cells": [
  {
   "cell_type": "code",
   "execution_count": 1,
   "metadata": {},
   "outputs": [],
   "source": [
    "import pandas as pd\n",
    "import sys\n",
    "import textblob\n",
    "from tqdm import tqdm,tqdm_pandas"
   ]
  },
  {
   "cell_type": "code",
   "execution_count": 2,
   "metadata": {},
   "outputs": [],
   "source": [
    "def read(x):\n",
    "    return pd.read_csv(x)\n",
    "def desc_missing(x):\n",
    "    '''\n",
    "    Takes data frame as input, then searches and fills missing description with недостающий\n",
    "    '''\n",
    "    if x['description'].isnull().sum()>0:\n",
    "        print(\"Description column has missing values, filling up with недостающий\")\n",
    "        x['description'].fillna(\"недостающий\",inplace=True)\n",
    "        return x\n",
    "    else:\n",
    "        return x\n",
    "def translate(x):\n",
    "    try:\n",
    "        return textblob.TextBlob(x).translate(to=\"en\")\n",
    "    except:\n",
    "        return x\n",
    "def map_translate(x):\n",
    "    print(\"Begining to translate\")\n",
    "    tqdm.pandas(tqdm())\n",
    "    x['en_desc']=x['description'].progress_map(translate)\n",
    "    print(\"Done translating decription\")\n",
    "    print(\"Begining to translate Title\")\n",
    "    x['en_title']=x['title'].progress_map(translate)\n",
    "    print(\"Done translating\")\n",
    "    return x\n",
    "\n",
    "def exporter(x,dest_path):\n",
    "    print(\"Writting to {}\".format(dest_path))\n",
    "    x.to_csv(dest_path,index=False)\n",
    "    print(\"Done\")\n",
    "\n",
    "\n",
    "def main(file, dest):\n",
    "    data=read(file)\n",
    "    data=desc_missing(data)\n",
    "    data=map_translate(data)\n",
    "    exporter(data,dest)\n",
    " "
   ]
  },
  {
   "cell_type": "code",
   "execution_count": null,
   "metadata": {},
   "outputs": [],
   "source": [
    "main('./data/test.csv', './data/test_eng.csv')"
   ]
  }
 ],
 "metadata": {
  "kernelspec": {
   "display_name": "Python 3",
   "language": "python",
   "name": "python3"
  },
  "language_info": {
   "codemirror_mode": {
    "name": "ipython",
    "version": 3
   },
   "file_extension": ".py",
   "mimetype": "text/x-python",
   "name": "python",
   "nbconvert_exporter": "python",
   "pygments_lexer": "ipython3",
   "version": "3.6.5"
  }
 },
 "nbformat": 4,
 "nbformat_minor": 2
}
