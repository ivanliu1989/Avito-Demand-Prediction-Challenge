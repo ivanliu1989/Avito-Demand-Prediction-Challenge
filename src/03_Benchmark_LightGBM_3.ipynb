{
 "cells": [
  {
   "cell_type": "code",
   "execution_count": 1,
   "metadata": {},
   "outputs": [
    {
     "data": {
      "text/html": [
       "<script>requirejs.config({paths: { 'plotly': ['https://cdn.plot.ly/plotly-latest.min']},});if(!window.Plotly) {{require(['plotly'],function(plotly) {window.Plotly=plotly;});}}</script>"
      ],
      "text/vnd.plotly.v1+html": [
       "<script>requirejs.config({paths: { 'plotly': ['https://cdn.plot.ly/plotly-latest.min']},});if(!window.Plotly) {{require(['plotly'],function(plotly) {window.Plotly=plotly;});}}</script>"
      ]
     },
     "metadata": {},
     "output_type": "display_data"
    }
   ],
   "source": [
    "import numpy as np # linear algebra\n",
    "import pandas as pd # data processing, CSV file I/O (e.g. pd.read_csv)\n",
    "import matplotlib.pyplot as plt\n",
    "import seaborn as sns\n",
    "from sklearn.feature_extraction.text import TfidfVectorizer, CountVectorizer\n",
    "from sklearn.decomposition import TruncatedSVD\n",
    "from sklearn import preprocessing, model_selection, metrics\n",
    "import lightgbm as lgb\n",
    "\n",
    "color = sns.color_palette()\n",
    "%matplotlib inline\n",
    "\n",
    "import plotly.offline as py\n",
    "py.init_notebook_mode(connected=True)\n",
    "import plotly.graph_objs as go\n",
    "import plotly.tools as tls\n",
    "\n",
    "pd.options.mode.chained_assignment = None\n",
    "pd.options.display.max_columns = 999"
   ]
  },
  {
   "cell_type": "code",
   "execution_count": 3,
   "metadata": {},
   "outputs": [
    {
     "name": "stdout",
     "output_type": "stream",
     "text": [
      "Train file rows and columns are :  (1503424, 18)\n",
      "Test file rows and columns are :  (508438, 17)\n"
     ]
    }
   ],
   "source": [
    "train_df = pd.read_csv(\"../data/train.csv\", parse_dates=[\"activation_date\"])\n",
    "test_df = pd.read_csv(\"../data/test.csv\", parse_dates=[\"activation_date\"])\n",
    "print(\"Train file rows and columns are : \", train_df.shape)\n",
    "print(\"Test file rows and columns are : \", test_df.shape)"
   ]
  },
  {
   "cell_type": "code",
   "execution_count": 5,
   "metadata": {},
   "outputs": [],
   "source": [
    "from io import StringIO\n",
    "\n",
    "temp_data = StringIO(\"\"\"\n",
    "region,region_en\n",
    "Свердловская область, Sverdlovsk oblast\n",
    "Самарская область, Samara oblast\n",
    "Ростовская область, Rostov oblast\n",
    "Татарстан, Tatarstan\n",
    "Волгоградская область, Volgograd oblast\n",
    "Нижегородская область, Nizhny Novgorod oblast\n",
    "Пермский край, Perm Krai\n",
    "Оренбургская область, Orenburg oblast\n",
    "Ханты-Мансийский АО, Khanty-Mansi Autonomous Okrug\n",
    "Тюменская область, Tyumen oblast\n",
    "Башкортостан, Bashkortostan\n",
    "Краснодарский край, Krasnodar Krai\n",
    "Новосибирская область, Novosibirsk oblast\n",
    "Омская область, Omsk oblast\n",
    "Белгородская область, Belgorod oblast\n",
    "Челябинская область, Chelyabinsk oblast\n",
    "Воронежская область, Voronezh oblast\n",
    "Кемеровская область, Kemerovo oblast\n",
    "Саратовская область, Saratov oblast\n",
    "Владимирская область, Vladimir oblast\n",
    "Калининградская область, Kaliningrad oblast\n",
    "Красноярский край, Krasnoyarsk Krai\n",
    "Ярославская область, Yaroslavl oblast\n",
    "Удмуртия, Udmurtia\n",
    "Алтайский край, Altai Krai\n",
    "Иркутская область, Irkutsk oblast\n",
    "Ставропольский край, Stavropol Krai\n",
    "Тульская область, Tula oblast\n",
    "\"\"\")\n",
    "\n",
    "region_df = pd.read_csv(temp_data)\n",
    "train_df = pd.merge(train_df, region_df, how=\"left\", on=\"region\")"
   ]
  },
  {
   "cell_type": "code",
   "execution_count": 7,
   "metadata": {},
   "outputs": [],
   "source": [
    "temp_data = StringIO(\"\"\"\n",
    "parent_category_name,parent_category_name_en\n",
    "Личные вещи,Personal belongings\n",
    "Для дома и дачи,For the home and garden\n",
    "Бытовая электроника,Consumer electronics\n",
    "Недвижимость,Real estate\n",
    "Хобби и отдых,Hobbies & leisure\n",
    "Транспорт,Transport\n",
    "Услуги,Services\n",
    "Животные,Animals\n",
    "Для бизнеса,For business\n",
    "\"\"\")\n",
    "\n",
    "temp_df = pd.read_csv(temp_data)\n",
    "train_df = pd.merge(train_df, temp_df, on=\"parent_category_name\", how=\"left\")"
   ]
  },
  {
   "cell_type": "code",
   "execution_count": 8,
   "metadata": {},
   "outputs": [],
   "source": [
    "temp_data = StringIO(\"\"\"\n",
    "category_name,category_name_en\n",
    "\"Одежда, обувь, аксессуары\",\"Clothing, shoes, accessories\"\n",
    "Детская одежда и обувь,Children's clothing and shoes\n",
    "Товары для детей и игрушки,Children's products and toys\n",
    "Квартиры,Apartments\n",
    "Телефоны,Phones\n",
    "Мебель и интерьер,Furniture and interior\n",
    "Предложение услуг,Offer services\n",
    "Автомобили,Cars\n",
    "Ремонт и строительство,Repair and construction\n",
    "Бытовая техника,Appliances\n",
    "Товары для компьютера,Products for computer\n",
    "\"Дома, дачи, коттеджи\",\"Houses, villas, cottages\"\n",
    "Красота и здоровье,Health and beauty\n",
    "Аудио и видео,Audio and video\n",
    "Спорт и отдых,Sports and recreation\n",
    "Коллекционирование,Collecting\n",
    "Оборудование для бизнеса,Equipment for business\n",
    "Земельные участки,Land\n",
    "Часы и украшения,Watches and jewelry\n",
    "Книги и журналы,Books and magazines\n",
    "Собаки,Dogs\n",
    "\"Игры, приставки и программы\",\"Games, consoles and software\"\n",
    "Другие животные,Other animals\n",
    "Велосипеды,Bikes\n",
    "Ноутбуки,Laptops\n",
    "Кошки,Cats\n",
    "Грузовики и спецтехника,Trucks and buses\n",
    "Посуда и товары для кухни,Tableware and goods for kitchen\n",
    "Растения,Plants\n",
    "Планшеты и электронные книги,Tablets and e-books\n",
    "Товары для животных,Pet products\n",
    "Комнаты,Room\n",
    "Фототехника,Photo\n",
    "Коммерческая недвижимость,Commercial property\n",
    "Гаражи и машиноместа,Garages and Parking spaces\n",
    "Музыкальные инструменты,Musical instruments\n",
    "Оргтехника и расходники,Office equipment and consumables\n",
    "Птицы,Birds\n",
    "Продукты питания,Food\n",
    "Мотоциклы и мототехника,Motorcycles and bikes\n",
    "Настольные компьютеры,Desktop computers\n",
    "Аквариум,Aquarium\n",
    "Охота и рыбалка,Hunting and fishing\n",
    "Билеты и путешествия,Tickets and travel\n",
    "Водный транспорт,Water transport\n",
    "Готовый бизнес,Ready business\n",
    "Недвижимость за рубежом,Property abroad\n",
    "\"\"\")\n",
    "\n",
    "temp_df = pd.read_csv(temp_data)\n",
    "train_df = pd.merge(train_df, temp_df, on=\"category_name\", how=\"left\")"
   ]
  },
  {
   "cell_type": "code",
   "execution_count": 10,
   "metadata": {},
   "outputs": [],
   "source": [
    "train_df[\"price_new\"] = train_df[\"price\"].values\n",
    "train_df[\"price_new\"].fillna(np.nanmean(train_df[\"price\"].values), inplace=True)"
   ]
  },
  {
   "cell_type": "markdown",
   "metadata": {},
   "source": [
    "### Baseline Model:\n",
    "\n",
    "Now let us build a baseline model using the given features and newly created features.\n",
    "\n",
    "In the following block, we will do :\n",
    "- Create a new feature for week day\n",
    "- Label encode the cateforical variables\n",
    "- Drop the columns that are not needed in the model."
   ]
  },
  {
   "cell_type": "code",
   "execution_count": 11,
   "metadata": {},
   "outputs": [],
   "source": [
    "# Target and ID variables #\n",
    "train_y = train_df[\"deal_probability\"].values\n",
    "test_id = test_df[\"item_id\"].values\n",
    "\n",
    "# New variable on weekday #\n",
    "train_df[\"activation_weekday\"] = train_df[\"activation_date\"].dt.weekday\n",
    "test_df[\"activation_weekday\"] = test_df[\"activation_date\"].dt.weekday\n",
    "\n",
    "# Label encode the categorical variables #\n",
    "cat_vars = [\"region\", \"city\", \"parent_category_name\", \"category_name\", \"user_type\", \"param_1\", \"param_2\", \"param_3\"]\n",
    "for col in cat_vars:\n",
    "    lbl = preprocessing.LabelEncoder()\n",
    "    lbl.fit(list(train_df[col].values.astype('str')) + list(test_df[col].values.astype('str')))\n",
    "    train_df[col] = lbl.transform(list(train_df[col].values.astype('str')))\n",
    "    test_df[col] = lbl.transform(list(test_df[col].values.astype('str')))\n",
    "\n",
    "cols_to_drop = [\"item_id\", \"user_id\", \"title\", \"description\", \"activation_date\", \"image\"]\n",
    "train_X = train_df.drop(cols_to_drop + [\"region_en\", \"parent_category_name_en\", \"category_name_en\", \"price_new\", \"deal_probability\"], axis=1)\n",
    "test_X = test_df.drop(cols_to_drop, axis=1)"
   ]
  },
  {
   "cell_type": "code",
   "execution_count": 12,
   "metadata": {},
   "outputs": [],
   "source": [
    "def run_lgb(train_X, train_y, val_X, val_y, test_X):\n",
    "    params = {\n",
    "        \"objective\" : \"regression\",\n",
    "        \"metric\" : \"rmse\",\n",
    "        \"num_leaves\" : 30,\n",
    "        \"learning_rate\" : 0.1,\n",
    "        \"bagging_fraction\" : 0.7,\n",
    "        \"feature_fraction\" : 0.7,\n",
    "        \"bagging_frequency\" : 5,\n",
    "        \"bagging_seed\" : 2018,\n",
    "        \"verbosity\" : -1\n",
    "    }\n",
    "    \n",
    "    lgtrain = lgb.Dataset(train_X, label=train_y)\n",
    "    lgval = lgb.Dataset(val_X, label=val_y)\n",
    "    evals_result = {}\n",
    "    model = lgb.train(params, lgtrain, 1000, valid_sets=[lgval], early_stopping_rounds=100, verbose_eval=20, evals_result=evals_result)\n",
    "    \n",
    "    pred_test_y = model.predict(test_X, num_iteration=model.best_iteration)\n",
    "    return pred_test_y, model, evals_result\n"
   ]
  },
  {
   "cell_type": "code",
   "execution_count": 13,
   "metadata": {},
   "outputs": [
    {
     "name": "stdout",
     "output_type": "stream",
     "text": [
      "(1303424, 12) (200000, 12) (508438, 12)\n",
      "Training until validation scores don't improve for 100 rounds.\n",
      "[20]\tvalid_0's rmse: 0.236273\n",
      "[40]\tvalid_0's rmse: 0.233508\n",
      "[60]\tvalid_0's rmse: 0.232199\n",
      "[80]\tvalid_0's rmse: 0.231535\n",
      "[100]\tvalid_0's rmse: 0.231099\n",
      "[120]\tvalid_0's rmse: 0.2307\n",
      "[140]\tvalid_0's rmse: 0.230377\n",
      "[160]\tvalid_0's rmse: 0.230111\n",
      "[180]\tvalid_0's rmse: 0.229921\n",
      "[200]\tvalid_0's rmse: 0.229706\n",
      "[220]\tvalid_0's rmse: 0.229517\n",
      "[240]\tvalid_0's rmse: 0.229369\n",
      "[260]\tvalid_0's rmse: 0.229227\n",
      "[280]\tvalid_0's rmse: 0.229101\n",
      "[300]\tvalid_0's rmse: 0.228988\n",
      "[320]\tvalid_0's rmse: 0.2289\n",
      "[340]\tvalid_0's rmse: 0.228828\n",
      "[360]\tvalid_0's rmse: 0.228747\n",
      "[380]\tvalid_0's rmse: 0.228664\n",
      "[400]\tvalid_0's rmse: 0.228605\n",
      "[420]\tvalid_0's rmse: 0.228531\n",
      "[440]\tvalid_0's rmse: 0.228459\n",
      "[460]\tvalid_0's rmse: 0.228373\n",
      "[480]\tvalid_0's rmse: 0.228285\n",
      "[500]\tvalid_0's rmse: 0.228219\n",
      "[520]\tvalid_0's rmse: 0.22817\n",
      "[540]\tvalid_0's rmse: 0.228123\n",
      "[560]\tvalid_0's rmse: 0.228088\n",
      "[580]\tvalid_0's rmse: 0.228034\n",
      "[600]\tvalid_0's rmse: 0.227968\n",
      "[620]\tvalid_0's rmse: 0.227912\n",
      "[640]\tvalid_0's rmse: 0.227862\n",
      "[660]\tvalid_0's rmse: 0.227818\n",
      "[680]\tvalid_0's rmse: 0.227785\n",
      "[700]\tvalid_0's rmse: 0.227738\n",
      "[720]\tvalid_0's rmse: 0.227698\n",
      "[740]\tvalid_0's rmse: 0.227661\n",
      "[760]\tvalid_0's rmse: 0.227626\n",
      "[780]\tvalid_0's rmse: 0.227593\n",
      "[800]\tvalid_0's rmse: 0.227557\n",
      "[820]\tvalid_0's rmse: 0.227522\n",
      "[840]\tvalid_0's rmse: 0.227491\n",
      "[860]\tvalid_0's rmse: 0.227453\n",
      "[880]\tvalid_0's rmse: 0.227428\n",
      "[900]\tvalid_0's rmse: 0.227411\n",
      "[920]\tvalid_0's rmse: 0.227374\n",
      "[940]\tvalid_0's rmse: 0.227355\n",
      "[960]\tvalid_0's rmse: 0.227329\n",
      "[980]\tvalid_0's rmse: 0.227308\n",
      "[1000]\tvalid_0's rmse: 0.227284\n",
      "Did not meet early stopping. Best iteration is:\n",
      "[995]\tvalid_0's rmse: 0.227283\n"
     ]
    }
   ],
   "source": [
    "# Splitting the data for model training#\n",
    "dev_X = train_X.iloc[:-200000,:]\n",
    "val_X = train_X.iloc[-200000:,:]\n",
    "dev_y = train_y[:-200000]\n",
    "val_y = train_y[-200000:]\n",
    "print(dev_X.shape, val_X.shape, test_X.shape)\n",
    "\n",
    "# Training the model #\n",
    "pred_test, model, evals_result = run_lgb(dev_X, dev_y, val_X, val_y, test_X)\n",
    "\n",
    "# Making a submission file #\n",
    "pred_test[pred_test>1] = 1\n",
    "pred_test[pred_test<0] = 0\n",
    "sub_df = pd.DataFrame({\"item_id\":test_id})\n",
    "sub_df[\"deal_probability\"] = pred_test\n",
    "sub_df.to_csv(\"baseline_lgb.csv\", index=False)"
   ]
  },
  {
   "cell_type": "code",
   "execution_count": 14,
   "metadata": {},
   "outputs": [
    {
     "data": {
      "image/png": "[encoded data removed]",
      "text/plain": [
       "<Figure size 864x1296 with 1 Axes>"
      ]
     },
     "metadata": {},
     "output_type": "display_data"
    }
   ],
   "source": [
    "fig, ax = plt.subplots(figsize=(12,18))\n",
    "lgb.plot_importance(model, max_num_features=50, height=0.8, ax=ax)\n",
    "ax.grid(False)\n",
    "plt.title(\"LightGBM - Feature Importance\", fontsize=15)\n",
    "plt.show()"
   ]
  },
  {
   "cell_type": "markdown",
   "metadata": {},
   "source": [
    "## 0.229"
   ]
  },
  {
   "cell_type": "code",
   "execution_count": null,
   "metadata": {},
   "outputs": [],
   "source": []
  }
 ],
 "metadata": {
  "kernelspec": {
   "display_name": "Python 3",
   "language": "python",
   "name": "python3"
  },
  "language_info": {
   "codemirror_mode": {
    "name": "ipython",
    "version": 3
   },
   "file_extension": ".py",
   "mimetype": "text/x-python",
   "name": "python",
   "nbconvert_exporter": "python",
   "pygments_lexer": "ipython3",
   "version": "3.6.5"
  }
 },
 "nbformat": 4,
 "nbformat_minor": 2
}
