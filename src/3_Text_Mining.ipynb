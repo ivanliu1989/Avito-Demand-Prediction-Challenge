{
 "cells": [
  {
   "cell_type": "code",
   "execution_count": 1,
   "metadata": {},
   "outputs": [],
   "source": [
    "# import nltk\n",
    "# nltk.download()\n",
    "from nltk.corpus import stopwords \n",
    "import numpy as np\n",
    "import pandas as pd\n",
    "\n",
    "stop = set(stopwords.words('russian'))\n",
    "data = pd.read_csv(\"../data/train.csv\",usecols=['title','description'])"
   ]
  },
  {
   "cell_type": "code",
   "execution_count": 2,
   "metadata": {},
   "outputs": [
    {
     "data": {
      "text/html": [
       "<div>\n",
       "<style scoped>\n",
       "    .dataframe tbody tr th:only-of-type {\n",
       "        vertical-align: middle;\n",
       "    }\n",
       "\n",
       "    .dataframe tbody tr th {\n",
       "        vertical-align: top;\n",
       "    }\n",
       "\n",
       "    .dataframe thead th {\n",
       "        text-align: right;\n",
       "    }\n",
       "</style>\n",
       "<table border=\"1\" class=\"dataframe\">\n",
       "  <thead>\n",
       "    <tr style=\"text-align: right;\">\n",
       "      <th></th>\n",
       "      <th>title</th>\n",
       "      <th>description</th>\n",
       "    </tr>\n",
       "  </thead>\n",
       "  <tbody>\n",
       "    <tr>\n",
       "      <th>0</th>\n",
       "      <td>Кокоби(кокон для сна)</td>\n",
       "      <td>Кокон для сна малыша,пользовались меньше месяц...</td>\n",
       "    </tr>\n",
       "    <tr>\n",
       "      <th>1</th>\n",
       "      <td>Стойка для Одежды</td>\n",
       "      <td>Стойка для одежды, под вешалки. С бутика.</td>\n",
       "    </tr>\n",
       "    <tr>\n",
       "      <th>2</th>\n",
       "      <td>Philips bluray</td>\n",
       "      <td>В хорошем состоянии, домашний кинотеатр с blu ...</td>\n",
       "    </tr>\n",
       "    <tr>\n",
       "      <th>3</th>\n",
       "      <td>Автокресло</td>\n",
       "      <td>Продам кресло от0-25кг</td>\n",
       "    </tr>\n",
       "    <tr>\n",
       "      <th>4</th>\n",
       "      <td>ВАЗ 2110, 2003</td>\n",
       "      <td>Все вопросы по телефону.</td>\n",
       "    </tr>\n",
       "  </tbody>\n",
       "</table>\n",
       "</div>"
      ],
      "text/plain": [
       "                   title                                        description\n",
       "0  Кокоби(кокон для сна)  Кокон для сна малыша,пользовались меньше месяц...\n",
       "1      Стойка для Одежды          Стойка для одежды, под вешалки. С бутика.\n",
       "2         Philips bluray  В хорошем состоянии, домашний кинотеатр с blu ...\n",
       "3             Автокресло                             Продам кресло от0-25кг\n",
       "4         ВАЗ 2110, 2003                           Все вопросы по телефону."
      ]
     },
     "execution_count": 2,
     "metadata": {},
     "output_type": "execute_result"
    }
   ],
   "source": [
    "data.head()"
   ]
  },
  {
   "attachments": {},
   "cell_type": "markdown",
   "metadata": {},
   "source": [
    "## Word2Vec\n",
    "Word2Vec is an efficient solution to these problems, which leverages the context of the target words. Essentially, we want to use the surrounding words to represent the target words with a Neural Network whose hidden layer encodes the word representation.\n",
    "\n",
    "There are two types of Word2Vec, Skip-gram and Continuous Bag of Words (CBOW). I will briefly describe how these two methods work in the following paragraphs.\n",
    "\n",
    "### Skip-gram\n",
    "For skip-gram, the input is the target word, while the outputs are the words surrounding the target words. For instance, in the sentence “I have a cute dog”, the input would be “a”, whereas the output is “I”, “have”, “cute”, and “dog”, assuming the window size is 5. All the input and output data are of the same dimension and one-hot encoded. The network contains 1 hidden layer whose dimension is equal to the embedding size, which is smaller than the input/ output vector size. At the end of the output layer, a softmax activation function is applied so that each element of the output vector describes how likely a specific word will appear in the context. The graph below visualizes the network structure.\n",
    "![image](https://cdn-images-1.medium.com/max/1600/1*TbjQNQLuyEW-cgsofyDioQ.png)\n",
    "The word embedding for the target words can obtained by extracting the hidden layers after feeding the one-hot representation of that word into the network.\n",
    "\n",
    "With skip-gram, the representation dimension decreases from the vocabulary size (V) to the length of the hidden layer (N). Furthermore, the vectors are more “meaningful” in terms of describing the relationship between words. The vectors obtained by subtracting two related words sometimes express a meaningful concept such as gender or verb tense, as shown in the following figure (dimensionality reduced).\n",
    "![image](https://cdn-images-1.medium.com/max/1600/1*jpnKO5X0Ii8PVdQYFO2z1Q.png)\n",
    "\n",
    "### CBOW\n",
    "Continuous Bag of Words (CBOW) is very similar to skip-gram, except that it swaps the input and output. The idea is that given a context, we want to know which word is most likely to appear in it.\n",
    "![image](https://cdn-images-1.medium.com/max/1600/1*UdLFo8hgsX0a1NKKuf_n9Q.png)\n",
    "The biggest difference between Skip-gram and CBOW is that the way the word vectors are generated. For CBOW, all the examples with the target word as target are fed into the networks, and taking the average of the extracted hidden layer. For example, assume we only have two sentences, “He is a nice guy” and “She is a wise queen”. To compute the word representation for the word “a”, we need to feed in these two examples, “He is nice guy”, and “She is wise queen” into the Neural Network and take the average of the value in the hidden layer. Skip-gram only feed in the one and only one target word one-hot vector as input.\n",
    "\n",
    "It is claimed that Skip-gram tends to do better in rare words. Nevertheless, the performance of Skip-gram and CBOW are generally similar."
   ]
  },
  {
   "cell_type": "code",
   "execution_count": 3,
   "metadata": {},
   "outputs": [],
   "source": [
    "import pandas as pd\n",
    "import numpy as np\n",
    "import matplotlib.pyplot as plt\n",
    "%matplotlib inline\n",
    "import seaborn as sns\n",
    "import re\n",
    "\n",
    "import pickle \n",
    "#import mglearn\n",
    "import time\n",
    "\n",
    "\n",
    "from nltk.tokenize import TweetTokenizer # doesn't split at apostrophes\n",
    "import nltk\n",
    "from nltk import Text\n",
    "from nltk.tokenize import regexp_tokenize\n",
    "from nltk.tokenize import word_tokenize  \n",
    "from nltk.tokenize import sent_tokenize \n",
    "from nltk.corpus import stopwords\n",
    "from nltk.stem import WordNetLemmatizer\n",
    "from nltk.stem import PorterStemmer\n",
    "\n",
    "\n",
    "from sklearn.feature_extraction.text import CountVectorizer\n",
    "from sklearn.feature_extraction.text import TfidfVectorizer"
   ]
  },
  {
   "cell_type": "code",
   "execution_count": 6,
   "metadata": {},
   "outputs": [
    {
     "data": {
      "text/plain": [
       "array(['Кокон для сна малыша,пользовались меньше месяца.цвет серый',\n",
       "       'Стойка для одежды, под вешалки. С бутика.',\n",
       "       'В хорошем состоянии, домашний кинотеатр с blu ray, USB. Если настроить, то работает смарт тв /\\nТорг',\n",
       "       'Продам кресло от0-25кг', 'Все вопросы по телефону.',\n",
       "       'В хорошем состоянии',\n",
       "       'Электро водонагреватель накопительный на 100 литров Термекс ID 100V, плоский, внутренний бак из нержавейки, 2 кВт, б/у 2 недели, на гарантии.',\n",
       "       'Бойфренды в хорошем состоянии.', '54 раз мер очень удобное',\n",
       "       'По стельке 15.5см мерить приокский район. Цвет темнее чем на фото'], dtype=object)"
      ]
     },
     "execution_count": 6,
     "metadata": {},
     "output_type": "execute_result"
    }
   ],
   "source": [
    "txt = data.description.values[:10]\n",
    "txt"
   ]
  },
  {
   "cell_type": "code",
   "execution_count": 7,
   "metadata": {},
   "outputs": [
    {
     "name": "stdout",
     "output_type": "stream",
     "text": [
      "Every feature:\n",
      "['100', '100v', '15', '25кг', '54', '5см', 'blu', 'id', 'ray', 'usb', 'бак', 'бойфренды', 'бутика', 'вешалки', 'внутренний', 'водонагреватель', 'вопросы', 'гарантии', 'домашний', 'квт', 'кинотеатр', 'кокон', 'кресло', 'литров', 'малыша', 'меньше', 'мер', 'мерить', 'месяца', 'накопительный', 'настроить', 'недели', 'нержавейки', 'одежды', 'от0', 'очень', 'плоский', 'пользовались', 'приокский', 'продам', 'работает', 'район', 'серый', 'смарт', 'сна', 'состоянии', 'стельке', 'стойка', 'тв', 'телефону', 'темнее', 'термекс', 'торг', 'удобное', 'фото', 'хорошем', 'цвет', 'электро']\n",
      "\n",
      "Every 3rd feature:\n",
      "['100', '25кг', 'blu', 'usb', 'бутика', 'водонагреватель', 'домашний', 'кокон', 'малыша', 'мерить', 'настроить', 'одежды', 'плоский', 'продам', 'серый', 'состоянии', 'тв', 'термекс', 'фото', 'электро']\n"
     ]
    }
   ],
   "source": [
    "# Initialize a CountVectorizer object: count_vectorizer\n",
    "count_vec = CountVectorizer(stop_words=stop, analyzer='word', encoding='KOI8-R',\n",
    "                            ngram_range=(1, 1), max_df=1.0, min_df=1, max_features=None)\n",
    "\n",
    "# Transforms the data into a bag of words\n",
    "count_train = count_vec.fit(txt)\n",
    "bag_of_words = count_vec.transform(txt)\n",
    "\n",
    "# Print the first 10 features of the count_vec\n",
    "print(\"Every feature:\\n{}\".format(count_vec.get_feature_names()))\n",
    "print(\"\\nEvery 3rd feature:\\n{}\".format(count_vec.get_feature_names()[::3]))"
   ]
  },
  {
   "cell_type": "code",
   "execution_count": 8,
   "metadata": {},
   "outputs": [
    {
     "name": "stdout",
     "output_type": "stream",
     "text": [
      "Vocabulary size: 58\n",
      "Vocabulary content:\n",
      " {'кокон': 21, 'сна': 44, 'малыша': 24, 'пользовались': 37, 'меньше': 25, 'месяца': 28, 'цвет': 56, 'серый': 42, 'стойка': 47, 'одежды': 33, 'вешалки': 13, 'бутика': 12, 'хорошем': 55, 'состоянии': 45, 'домашний': 18, 'кинотеатр': 20, 'blu': 6, 'ray': 8, 'usb': 9, 'настроить': 30, 'работает': 40, 'смарт': 43, 'тв': 48, 'торг': 52, 'продам': 39, 'кресло': 22, 'от0': 34, '25кг': 3, 'вопросы': 16, 'телефону': 49, 'электро': 57, 'водонагреватель': 15, 'накопительный': 29, '100': 0, 'литров': 23, 'термекс': 51, 'id': 7, '100v': 1, 'плоский': 36, 'внутренний': 14, 'бак': 10, 'нержавейки': 32, 'квт': 19, 'недели': 31, 'гарантии': 17, 'бойфренды': 11, '54': 4, 'мер': 26, 'очень': 35, 'удобное': 53, 'стельке': 46, '15': 2, '5см': 5, 'мерить': 27, 'приокский': 38, 'район': 41, 'темнее': 50, 'фото': 54}\n"
     ]
    }
   ],
   "source": [
    "print(\"Vocabulary size: {}\".format(len(count_train.vocabulary_)))\n",
    "print(\"Vocabulary content:\\n {}\".format(count_train.vocabulary_))"
   ]
  },
  {
   "cell_type": "markdown",
   "metadata": {},
   "source": [
    "### N-grams\n",
    "#### N=2"
   ]
  },
  {
   "cell_type": "code",
   "execution_count": 9,
   "metadata": {},
   "outputs": [
    {
     "name": "stdout",
     "output_type": "stream",
     "text": [
      "['100', '100 литров', '100v', '100v плоский', '15', '15 5см', '25кг', '54', '54 мер', '5см', '5см мерить', 'blu', 'blu ray', 'id', 'id 100v', 'ray', 'ray usb', 'usb', 'usb настроить', 'бак', 'бак нержавейки', 'бойфренды', 'бойфренды хорошем', 'бутика', 'вешалки', 'вешалки бутика', 'внутренний', 'внутренний бак', 'водонагреватель', 'водонагреватель накопительный', 'вопросы', 'вопросы телефону', 'гарантии', 'домашний', 'домашний кинотеатр', 'квт', 'квт недели', 'кинотеатр', 'кинотеатр blu', 'кокон', 'кокон сна', 'кресло', 'кресло от0', 'литров', 'литров термекс', 'малыша', 'малыша пользовались', 'меньше', 'меньше месяца', 'мер', 'мер очень', 'мерить', 'мерить приокский', 'месяца', 'месяца цвет', 'накопительный', 'накопительный 100', 'настроить', 'настроить работает', 'недели', 'недели гарантии', 'нержавейки', 'нержавейки квт', 'одежды', 'одежды вешалки', 'от0', 'от0 25кг', 'очень', 'очень удобное', 'плоский', 'плоский внутренний', 'пользовались', 'пользовались меньше', 'приокский', 'приокский район', 'продам', 'продам кресло', 'работает', 'работает смарт', 'район', 'район цвет', 'серый', 'смарт', 'смарт тв', 'сна', 'сна малыша', 'состоянии', 'состоянии домашний', 'стельке', 'стельке 15', 'стойка', 'стойка одежды', 'тв', 'тв торг', 'телефону', 'темнее', 'темнее фото', 'термекс', 'термекс id', 'торг', 'удобное', 'фото', 'хорошем', 'хорошем состоянии', 'цвет', 'цвет серый', 'цвет темнее', 'электро', 'электро водонагреватель']\n"
     ]
    }
   ],
   "source": [
    "count_vec = CountVectorizer(stop_words=stopwords.words('russian'), analyzer='word', encoding='KOI8-R',\n",
    "                            ngram_range=(1, 2), max_df=1.0, min_df=1, max_features=None)\n",
    "\n",
    "count_train = count_vec.fit(txt)\n",
    "bag_of_words = count_vec.transform(txt)\n",
    "\n",
    "print(count_vec.get_feature_names())"
   ]
  },
  {
   "cell_type": "markdown",
   "metadata": {},
   "source": [
    "#### N=3"
   ]
  },
  {
   "cell_type": "code",
   "execution_count": 10,
   "metadata": {},
   "outputs": [
    {
     "name": "stdout",
     "output_type": "stream",
     "text": [
      "['100', '100 литров', '100 литров термекс', '100v', '100v плоский', '100v плоский внутренний', '15', '15 5см', '15 5см мерить', '25кг', '54', '54 мер', '54 мер очень', '5см', '5см мерить', '5см мерить приокский', 'blu', 'blu ray', 'blu ray usb', 'id', 'id 100v', 'id 100v плоский', 'ray', 'ray usb', 'ray usb настроить', 'usb', 'usb настроить', 'usb настроить работает', 'бак', 'бак нержавейки', 'бак нержавейки квт', 'бойфренды', 'бойфренды хорошем', 'бойфренды хорошем состоянии', 'бутика', 'вешалки', 'вешалки бутика', 'внутренний', 'внутренний бак', 'внутренний бак нержавейки', 'водонагреватель', 'водонагреватель накопительный', 'водонагреватель накопительный 100', 'вопросы', 'вопросы телефону', 'гарантии', 'домашний', 'домашний кинотеатр', 'домашний кинотеатр blu', 'квт', 'квт недели', 'квт недели гарантии', 'кинотеатр', 'кинотеатр blu', 'кинотеатр blu ray', 'кокон', 'кокон сна', 'кокон сна малыша', 'кресло', 'кресло от0', 'кресло от0 25кг', 'литров', 'литров термекс', 'литров термекс id', 'малыша', 'малыша пользовались', 'малыша пользовались меньше', 'меньше', 'меньше месяца', 'меньше месяца цвет', 'мер', 'мер очень', 'мер очень удобное', 'мерить', 'мерить приокский', 'мерить приокский район', 'месяца', 'месяца цвет', 'месяца цвет серый', 'накопительный', 'накопительный 100', 'накопительный 100 литров', 'настроить', 'настроить работает', 'настроить работает смарт', 'недели', 'недели гарантии', 'нержавейки', 'нержавейки квт', 'нержавейки квт недели', 'одежды', 'одежды вешалки', 'одежды вешалки бутика', 'от0', 'от0 25кг', 'очень', 'очень удобное', 'плоский', 'плоский внутренний', 'плоский внутренний бак', 'пользовались', 'пользовались меньше', 'пользовались меньше месяца', 'приокский', 'приокский район', 'приокский район цвет', 'продам', 'продам кресло', 'продам кресло от0', 'работает', 'работает смарт', 'работает смарт тв', 'район', 'район цвет', 'район цвет темнее', 'серый', 'смарт', 'смарт тв', 'смарт тв торг', 'сна', 'сна малыша', 'сна малыша пользовались', 'состоянии', 'состоянии домашний', 'состоянии домашний кинотеатр', 'стельке', 'стельке 15', 'стельке 15 5см', 'стойка', 'стойка одежды', 'стойка одежды вешалки', 'тв', 'тв торг', 'телефону', 'темнее', 'темнее фото', 'термекс', 'термекс id', 'термекс id 100v', 'торг', 'удобное', 'фото', 'хорошем', 'хорошем состоянии', 'хорошем состоянии домашний', 'цвет', 'цвет серый', 'цвет темнее', 'цвет темнее фото', 'электро', 'электро водонагреватель', 'электро водонагреватель накопительный']\n"
     ]
    }
   ],
   "source": [
    "count_vec = CountVectorizer(stop_words=stopwords.words('russian'), analyzer='word', encoding='KOI8-R',\n",
    "                            ngram_range=(1, 3), max_df=1.0, min_df=1, max_features=None)\n",
    "\n",
    "count_train = count_vec.fit(txt)\n",
    "bag_of_words = count_vec.transform(txt)\n",
    "\n",
    "print(count_vec.get_feature_names())"
   ]
  },
  {
   "cell_type": "code",
   "execution_count": null,
   "metadata": {},
   "outputs": [],
   "source": []
  }
 ],
 "metadata": {
  "kernelspec": {
   "display_name": "Python 3",
   "language": "python",
   "name": "python3"
  },
  "language_info": {
   "codemirror_mode": {
    "name": "ipython",
    "version": 3
   },
   "file_extension": ".py",
   "mimetype": "text/x-python",
   "name": "python",
   "nbconvert_exporter": "python",
   "pygments_lexer": "ipython3",
   "version": "3.6.5"
  }
 },
 "nbformat": 4,
 "nbformat_minor": 2
}
