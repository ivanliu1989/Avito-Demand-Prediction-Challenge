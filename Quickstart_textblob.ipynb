{
 "cells": [
  {
   "cell_type": "code",
   "execution_count": 1,
   "metadata": {},
   "outputs": [],
   "source": [
    "from pymystem3 import Mystem\n",
    "text = \"Красивая мама красиво мыла раму\""
   ]
  },
  {
   "cell_type": "code",
   "execution_count": 2,
   "metadata": {},
   "outputs": [
    {
     "name": "stderr",
     "output_type": "stream",
     "text": [
      "Installing mystem to C:\\Users\\ivanliu/.local/bin\\mystem.exe from http://download.cdn.yandex.net/mystem/mystem-3.0-win7-64bit.zip\n"
     ]
    }
   ],
   "source": [
    "m = Mystem()"
   ]
  },
  {
   "cell_type": "code",
   "execution_count": 8,
   "metadata": {},
   "outputs": [],
   "source": [
    "from textblob import TextBlob"
   ]
  },
  {
   "cell_type": "code",
   "execution_count": 16,
   "metadata": {},
   "outputs": [],
   "source": [
    "blob = TextBlob(text)"
   ]
  },
  {
   "cell_type": "code",
   "execution_count": 18,
   "metadata": {},
   "outputs": [
    {
     "data": {
      "text/plain": [
       "WordList(['красивая мама красиво мыла раму'])"
      ]
     },
     "execution_count": 18,
     "metadata": {},
     "output_type": "execute_result"
    }
   ],
   "source": [
    "blob.noun_phrases"
   ]
  },
  {
   "cell_type": "code",
   "execution_count": 20,
   "metadata": {},
   "outputs": [
    {
     "data": {
      "text/plain": [
       "[Sentence(\"Красивая мама красиво мыла раму\")]"
      ]
     },
     "execution_count": 20,
     "metadata": {},
     "output_type": "execute_result"
    }
   ],
   "source": [
    "blob.sentences"
   ]
  },
  {
   "cell_type": "code",
   "execution_count": 21,
   "metadata": {},
   "outputs": [
    {
     "data": {
      "text/plain": [
       "Sentiment(polarity=0.0, subjectivity=0.0)"
      ]
     },
     "execution_count": 21,
     "metadata": {},
     "output_type": "execute_result"
    }
   ],
   "source": [
    "blob.sentiment"
   ]
  },
  {
   "cell_type": "code",
   "execution_count": 22,
   "metadata": {},
   "outputs": [
    {
     "data": {
      "text/plain": [
       "TextBlob(\"Beautiful mother beautifully washed frame\")"
      ]
     },
     "execution_count": 22,
     "metadata": {},
     "output_type": "execute_result"
    }
   ],
   "source": [
    "blob.translate(to='en')"
   ]
  },
  {
   "cell_type": "code",
   "execution_count": 23,
   "metadata": {},
   "outputs": [
    {
     "data": {
      "text/plain": [
       "WordList(['Красивая', 'мама', 'красиво', 'мыла', 'раму'])"
      ]
     },
     "execution_count": 23,
     "metadata": {},
     "output_type": "execute_result"
    }
   ],
   "source": [
    "blob.words"
   ]
  },
  {
   "cell_type": "code",
   "execution_count": 24,
   "metadata": {},
   "outputs": [],
   "source": [
    "from textblob import Word"
   ]
  },
  {
   "cell_type": "code",
   "execution_count": 25,
   "metadata": {},
   "outputs": [],
   "source": [
    "w = Word('octopi')"
   ]
  },
  {
   "cell_type": "code",
   "execution_count": 27,
   "metadata": {},
   "outputs": [
    {
     "data": {
      "text/plain": [
       "'octopus'"
      ]
     },
     "execution_count": 27,
     "metadata": {},
     "output_type": "execute_result"
    }
   ],
   "source": [
    "w.lemmatize()"
   ]
  },
  {
   "cell_type": "code",
   "execution_count": 28,
   "metadata": {},
   "outputs": [
    {
     "data": {
      "text/plain": [
       "2"
      ]
     },
     "execution_count": 28,
     "metadata": {},
     "output_type": "execute_result"
    }
   ],
   "source": [
    "monty = TextBlob(\"We are no longer the Knights who say Ni. We are now the Knights who say Ekki ekki ekki PTANG.\")\n",
    "monty.words.count('ekki', case_sensitive=True)"
   ]
  },
  {
   "cell_type": "code",
   "execution_count": 29,
   "metadata": {},
   "outputs": [
    {
     "data": {
      "text/plain": [
       "[WordList(['Красивая', 'мама', 'красиво']),\n",
       " WordList(['мама', 'красиво', 'мыла']),\n",
       " WordList(['красиво', 'мыла', 'раму'])]"
      ]
     },
     "execution_count": 29,
     "metadata": {},
     "output_type": "execute_result"
    }
   ],
   "source": [
    "blob.ngrams(n=3)"
   ]
  },
  {
   "cell_type": "code",
   "execution_count": 31,
   "metadata": {},
   "outputs": [
    {
     "name": "stdout",
     "output_type": "stream",
     "text": [
      "['Красивая', 'мама', 'красиво']\n",
      "['мама', 'красиво', 'мыла']\n",
      "['красиво', 'мыла', 'раму']\n"
     ]
    }
   ],
   "source": [
    "for s in blob.ngrams(n=3):\n",
    "    print(s)"
   ]
  },
  {
   "cell_type": "code",
   "execution_count": null,
   "metadata": {},
   "outputs": [],
   "source": []
  },
  {
   "cell_type": "code",
   "execution_count": null,
   "metadata": {},
   "outputs": [],
   "source": []
  },
  {
   "cell_type": "code",
   "execution_count": null,
   "metadata": {},
   "outputs": [],
   "source": []
  },
  {
   "cell_type": "code",
   "execution_count": 32,
   "metadata": {},
   "outputs": [],
   "source": [
    "import pandas as pd\n",
    "import numpy as np\n",
    "dat = pd.read_csv('../Avito-Demand-Prediction-Challenge/data/train.csv', usecols=['title','description'])"
   ]
  },
  {
   "cell_type": "code",
   "execution_count": 33,
   "metadata": {},
   "outputs": [
    {
     "data": {
      "text/html": [
       "<div>\n",
       "<style scoped>\n",
       "    .dataframe tbody tr th:only-of-type {\n",
       "        vertical-align: middle;\n",
       "    }\n",
       "\n",
       "    .dataframe tbody tr th {\n",
       "        vertical-align: top;\n",
       "    }\n",
       "\n",
       "    .dataframe thead th {\n",
       "        text-align: right;\n",
       "    }\n",
       "</style>\n",
       "<table border=\"1\" class=\"dataframe\">\n",
       "  <thead>\n",
       "    <tr style=\"text-align: right;\">\n",
       "      <th></th>\n",
       "      <th>title</th>\n",
       "      <th>description</th>\n",
       "    </tr>\n",
       "  </thead>\n",
       "  <tbody>\n",
       "    <tr>\n",
       "      <th>0</th>\n",
       "      <td>Кокоби(кокон для сна)</td>\n",
       "      <td>Кокон для сна малыша,пользовались меньше месяц...</td>\n",
       "    </tr>\n",
       "    <tr>\n",
       "      <th>1</th>\n",
       "      <td>Стойка для Одежды</td>\n",
       "      <td>Стойка для одежды, под вешалки. С бутика.</td>\n",
       "    </tr>\n",
       "    <tr>\n",
       "      <th>2</th>\n",
       "      <td>Philips bluray</td>\n",
       "      <td>В хорошем состоянии, домашний кинотеатр с blu ...</td>\n",
       "    </tr>\n",
       "    <tr>\n",
       "      <th>3</th>\n",
       "      <td>Автокресло</td>\n",
       "      <td>Продам кресло от0-25кг</td>\n",
       "    </tr>\n",
       "    <tr>\n",
       "      <th>4</th>\n",
       "      <td>ВАЗ 2110, 2003</td>\n",
       "      <td>Все вопросы по телефону.</td>\n",
       "    </tr>\n",
       "  </tbody>\n",
       "</table>\n",
       "</div>"
      ],
      "text/plain": [
       "                   title                                        description\n",
       "0  Кокоби(кокон для сна)  Кокон для сна малыша,пользовались меньше месяц...\n",
       "1      Стойка для Одежды          Стойка для одежды, под вешалки. С бутика.\n",
       "2         Philips bluray  В хорошем состоянии, домашний кинотеатр с blu ...\n",
       "3             Автокресло                             Продам кресло от0-25кг\n",
       "4         ВАЗ 2110, 2003                           Все вопросы по телефону."
      ]
     },
     "execution_count": 33,
     "metadata": {},
     "output_type": "execute_result"
    }
   ],
   "source": [
    "dat.head()"
   ]
  },
  {
   "cell_type": "code",
   "execution_count": 38,
   "metadata": {},
   "outputs": [],
   "source": [
    "blob = TextBlob(dat.description[0])"
   ]
  },
  {
   "cell_type": "code",
   "execution_count": 39,
   "metadata": {},
   "outputs": [
    {
     "data": {
      "text/plain": [
       "TextBlob(\"Кокон для сна малыша,пользовались меньше месяца.цвет серый\")"
      ]
     },
     "execution_count": 39,
     "metadata": {},
     "output_type": "execute_result"
    }
   ],
   "source": [
    "blob"
   ]
  },
  {
   "cell_type": "code",
   "execution_count": 43,
   "metadata": {},
   "outputs": [
    {
     "data": {
      "text/plain": [
       "Sentiment(polarity=0.16666666666666669, subjectivity=0.3833333333333333)"
      ]
     },
     "execution_count": 43,
     "metadata": {},
     "output_type": "execute_result"
    }
   ],
   "source": [
    "blob = blob.translate(to='en')\n",
    "blob.sentiment"
   ]
  },
  {
   "cell_type": "code",
   "execution_count": 44,
   "metadata": {},
   "outputs": [
    {
     "data": {
      "text/plain": [
       "TextBlob(\"Cocoon for sleeping baby, enjoyed less than a month.color gray\")"
      ]
     },
     "execution_count": 44,
     "metadata": {},
     "output_type": "execute_result"
    }
   ],
   "source": [
    "blob.words"
   ]
  },
  {
   "cell_type": "code",
   "execution_count": 51,
   "metadata": {},
   "outputs": [
    {
     "data": {
      "text/plain": [
       "WordList(['Cocoon', 'for', 'sleeping', 'baby', 'enjoyed', 'less', 'than', 'a', 'month.color', 'gray'])"
      ]
     },
     "execution_count": 51,
     "metadata": {},
     "output_type": "execute_result"
    }
   ],
   "source": [
    "blob.words"
   ]
  },
  {
   "cell_type": "code",
   "execution_count": 49,
   "metadata": {},
   "outputs": [
    {
     "data": {
      "text/plain": [
       "WordList(['Cocoon', 'for', 'sleeping', 'baby', 'enjoyed', 'le', 'than', 'a', 'month.color', 'gray'])"
      ]
     },
     "execution_count": 49,
     "metadata": {},
     "output_type": "execute_result"
    }
   ],
   "source": [
    "blob.words.lemmatize()"
   ]
  },
  {
   "cell_type": "markdown",
   "metadata": {},
   "source": [
    "### Translate to English"
   ]
  },
  {
   "cell_type": "code",
   "execution_count": 52,
   "metadata": {},
   "outputs": [],
   "source": [
    "import pandas as pd\n",
    "import sys\n",
    "import textblob\n",
    "from tqdm import tqdm,tqdm_pandas"
   ]
  },
  {
   "cell_type": "code",
   "execution_count": 54,
   "metadata": {},
   "outputs": [],
   "source": [
    "def read(x):\n",
    "    return pd.read_csv(x)\n",
    "def desc_missing(x):\n",
    "    '''\n",
    "    Takes data frame as input, then searches and fills missing description with недостающий\n",
    "    '''\n",
    "    if x['description'].isnull().sum()>0:\n",
    "        print(\"Description column has missing values, filling up with недостающий\")\n",
    "        x['description'].fillna(\"недостающий\",inplace=True)\n",
    "        return x\n",
    "    else:\n",
    "        return x\n",
    "def translate(x):\n",
    "    try:\n",
    "        return textblob.TextBlob(x).translate(to=\"en\")\n",
    "    except:\n",
    "        return x\n",
    "def map_translate(x):\n",
    "    print(\"Begining to translate\")\n",
    "    tqdm.pandas(tqdm())\n",
    "    x['en_desc']=x['description'].progress_map(translate)\n",
    "    print(\"Done translating decription\")\n",
    "    print(\"Begining to translate Title\")\n",
    "    x['en_title']=x['title'].progress_map(translate)\n",
    "    print(\"Done translating\")\n",
    "    return x\n",
    "\n",
    "def exporter(x,dest_path):\n",
    "    print(\"Writting to {}\".format(dest_path))\n",
    "    x.to_csv(dest_path,index=False)\n",
    "    print(\"Done\")\n",
    "\n",
    "\n",
    "def main(file, dest):\n",
    "    data=read(file)\n",
    "    data=desc_missing(data)\n",
    "    data=map_translate(data)\n",
    "    exporter(data,dest)\n",
    " "
   ]
  },
  {
   "cell_type": "code",
   "execution_count": 57,
   "metadata": {},
   "outputs": [],
   "source": [
    "data = desc_missing(dat)"
   ]
  },
  {
   "cell_type": "code",
   "execution_count": null,
   "metadata": {},
   "outputs": [
    {
     "name": "stdout",
     "output_type": "stream",
     "text": [
      "Begining to translate\n"
     ]
    },
    {
     "name": "stderr",
     "output_type": "stream",
     "text": [
      "0it [00:00, ?it/s]\n",
      "  0%|                                                                                       | 0/1503424 [00:00<?, ?it/s]\n",
      "  0%|                                                                            | 2/1503424 [00:00<57:34:36,  7.25it/s]\n",
      "  0%|                                                                           | 3/1503424 [00:00<127:44:00,  3.27it/s]\n",
      "  0%|                                                                           | 4/1503424 [00:01<149:42:52,  2.79it/s]\n",
      "  0%|                                                                           | 5/1503424 [00:02<242:36:15,  1.72it/s]\n",
      "  0%|                                                                           | 6/1503424 [00:02<198:05:13,  2.11it/s]\n",
      "  0%|                                                                           | 7/1503424 [00:03<166:10:17,  2.51it/s]\n",
      "  0%|                                                                           | 8/1503424 [00:03<213:55:30,  1.95it/s]\n",
      "  0%|                                                                           | 9/1503424 [00:04<205:23:34,  2.03it/s]\n",
      "  0%|                                                                          | 10/1503424 [00:04<188:52:20,  2.21it/s]\n",
      "  0%|                                                                          | 11/1503424 [00:05<204:34:00,  2.04it/s]\n",
      "  0%|                                                                          | 12/1503424 [00:05<196:35:03,  2.12it/s]\n",
      "  0%|                                                                          | 13/1503424 [00:05<171:39:19,  2.43it/s]\n",
      "  0%|                                                                          | 14/1503424 [00:06<191:23:01,  2.18it/s]\n",
      "  0%|                                                                          | 15/1503424 [00:07<223:09:14,  1.87it/s]\n",
      "  0%|                                                                          | 16/1503424 [00:07<213:21:50,  1.96it/s]\n",
      "  0%|                                                                          | 17/1503424 [00:08<298:50:24,  1.40it/s]\n",
      "  0%|                                                                          | 18/1503424 [00:10<389:11:53,  1.07it/s]\n",
      "  0%|                                                                          | 19/1503424 [00:10<346:18:07,  1.21it/s]\n",
      "  0%|                                                                          | 20/1503424 [00:13<533:35:35,  1.28s/it]\n",
      "  0%|                                                                          | 21/1503424 [00:13<453:32:00,  1.09s/it]\n",
      "  0%|                                                                          | 22/1503424 [00:14<427:45:55,  1.02s/it]\n",
      "  0%|                                                                          | 23/1503424 [00:15<398:02:43,  1.05it/s]\n",
      "  0%|                                                                          | 24/1503424 [00:16<354:30:30,  1.18it/s]\n",
      "  0%|                                                                          | 25/1503424 [00:16<318:59:59,  1.31it/s]\n",
      "  0%|                                                                          | 26/1503424 [00:17<348:55:15,  1.20it/s]\n",
      "  0%|                                                                          | 27/1503424 [00:18<352:40:27,  1.18it/s]\n",
      "  0%|                                                                          | 28/1503424 [00:18<308:33:13,  1.35it/s]\n",
      "  0%|                                                                          | 29/1503424 [00:19<244:44:59,  1.71it/s]\n",
      "  0%|                                                                          | 30/1503424 [00:19<261:46:08,  1.60it/s]\n",
      "  0%|                                                                          | 31/1503424 [00:20<210:29:49,  1.98it/s]\n",
      "  0%|                                                                          | 32/1503424 [00:20<246:27:45,  1.69it/s]\n",
      "  0%|                                                                          | 33/1503424 [00:21<238:58:18,  1.75it/s]\n",
      "  0%|                                                                          | 34/1503424 [00:22<314:30:09,  1.33it/s]\n",
      "  0%|                                                                          | 35/1503424 [00:23<316:45:02,  1.32it/s]\n",
      "  0%|                                                                          | 36/1503424 [00:24<309:09:30,  1.35it/s]\n",
      "  0%|                                                                          | 37/1503424 [00:24<319:32:15,  1.31it/s]\n",
      "  0%|                                                                          | 38/1503424 [00:25<348:24:47,  1.20it/s]\n",
      "  0%|                                                                          | 39/1503424 [00:26<345:23:12,  1.21it/s]\n",
      "  0%|                                                                          | 40/1503424 [00:27<353:41:40,  1.18it/s]\n",
      "  0%|                                                                          | 41/1503424 [00:28<311:58:57,  1.34it/s]\n",
      "  0%|                                                                          | 42/1503424 [00:28<282:12:15,  1.48it/s]\n",
      "  0%|                                                                          | 43/1503424 [00:29<296:54:16,  1.41it/s]\n",
      "  0%|                                                                          | 44/1503424 [00:30<389:13:21,  1.07it/s]\n",
      "  0%|                                                                          | 45/1503424 [00:32<414:54:13,  1.01it/s]\n",
      "  0%|                                                                          | 46/1503424 [00:32<341:18:13,  1.22it/s]\n",
      "  0%|                                                                          | 47/1503424 [00:32<265:09:54,  1.57it/s]\n",
      "  0%|                                                                          | 48/1503424 [00:33<258:05:44,  1.62it/s]\n",
      "  0%|                                                                          | 49/1503424 [00:33<208:25:39,  2.00it/s]\n",
      "  0%|                                                                          | 50/1503424 [00:34<229:48:37,  1.82it/s]\n",
      "  0%|                                                                          | 51/1503424 [00:34<242:46:20,  1.72it/s]\n",
      "  0%|                                                                          | 52/1503424 [00:35<242:47:34,  1.72it/s]\n",
      "  0%|                                                                          | 53/1503424 [00:36<351:58:16,  1.19it/s]\n",
      "  0%|                                                                          | 54/1503424 [00:37<277:16:51,  1.51it/s]\n",
      "  0%|                                                                          | 55/1503424 [00:37<295:28:04,  1.41it/s]\n",
      "  0%|                                                                          | 56/1503424 [00:38<274:39:39,  1.52it/s]\n",
      "  0%|                                                                          | 57/1503424 [00:39<305:49:02,  1.37it/s]\n",
      "  0%|                                                                          | 58/1503424 [00:39<298:36:37,  1.40it/s]\n",
      "  0%|                                                                          | 59/1503424 [00:40<238:02:38,  1.75it/s]\n",
      "  0%|                                                                          | 60/1503424 [00:40<211:36:17,  1.97it/s]\n",
      "  0%|                                                                          | 61/1503424 [00:41<258:17:11,  1.62it/s]\n",
      "  0%|                                                                          | 62/1503424 [00:42<282:47:44,  1.48it/s]\n",
      "  0%|                                                                          | 63/1503424 [00:43<305:43:47,  1.37it/s]\n",
      "  0%|                                                                          | 64/1503424 [00:43<308:43:26,  1.35it/s]\n",
      "  0%|                                                                          | 65/1503424 [00:44<275:08:42,  1.52it/s]\n",
      "  0%|                                                                          | 66/1503424 [00:44<223:46:16,  1.87it/s]\n",
      "  0%|                                                                          | 67/1503424 [00:45<267:43:49,  1.56it/s]\n"
     ]
    },
    {
     "name": "stderr",
     "output_type": "stream",
     "text": [
      "  0%|                                                                          | 68/1503424 [00:46<303:10:30,  1.38it/s]\n",
      "  0%|                                                                          | 69/1503424 [00:47<329:25:37,  1.27it/s]\n",
      "  0%|                                                                          | 70/1503424 [00:48<318:01:33,  1.31it/s]\n",
      "  0%|                                                                          | 71/1503424 [00:49<341:49:44,  1.22it/s]\n",
      "  0%|                                                                          | 72/1503424 [00:49<305:21:09,  1.37it/s]\n",
      "  0%|                                                                          | 73/1503424 [00:50<282:10:18,  1.48it/s]\n",
      "  0%|                                                                          | 74/1503424 [00:50<253:17:46,  1.65it/s]\n",
      "  0%|                                                                          | 75/1503424 [00:52<399:25:24,  1.05it/s]\n",
      "  0%|                                                                          | 76/1503424 [00:53<388:52:47,  1.07it/s]\n",
      "  0%|                                                                          | 77/1503424 [00:53<301:51:37,  1.38it/s]\n",
      "  0%|                                                                          | 78/1503424 [00:53<283:09:21,  1.47it/s]\n",
      "  0%|                                                                          | 79/1503424 [00:54<273:19:31,  1.53it/s]\n",
      "  0%|                                                                          | 80/1503424 [00:55<334:54:12,  1.25it/s]\n",
      "  0%|                                                                          | 81/1503424 [00:57<402:37:40,  1.04it/s]\n",
      "  0%|                                                                          | 82/1503424 [00:57<361:36:08,  1.15it/s]\n",
      "  0%|                                                                          | 83/1503424 [00:58<323:27:40,  1.29it/s]\n",
      "  0%|                                                                          | 84/1503424 [00:58<254:41:19,  1.64it/s]\n",
      "  0%|                                                                          | 85/1503424 [00:59<269:43:42,  1.55it/s]\n",
      "  0%|                                                                          | 86/1503424 [00:59<272:13:06,  1.53it/s]\n",
      "  0%|                                                                          | 87/1503424 [01:00<267:10:12,  1.56it/s]\n",
      "  0%|                                                                          | 88/1503424 [01:01<295:25:19,  1.41it/s]\n",
      "  0%|                                                                          | 89/1503424 [01:02<399:44:18,  1.04it/s]\n",
      "  0%|                                                                          | 90/1503424 [01:03<341:51:57,  1.22it/s]\n",
      "  0%|                                                                          | 91/1503424 [01:03<291:48:53,  1.43it/s]\n",
      "  0%|                                                                          | 92/1503424 [01:04<267:04:22,  1.56it/s]\n",
      "  0%|                                                                          | 93/1503424 [01:04<256:17:18,  1.63it/s]\n",
      "  0%|                                                                          | 94/1503424 [01:05<238:48:58,  1.75it/s]\n",
      "  0%|                                                                          | 95/1503424 [01:05<229:36:34,  1.82it/s]\n",
      "  0%|                                                                          | 96/1503424 [01:06<254:18:25,  1.64it/s]\n",
      "  0%|                                                                          | 97/1503424 [01:07<260:02:19,  1.61it/s]\n",
      "  0%|                                                                          | 98/1503424 [01:07<248:21:12,  1.68it/s]\n",
      "  0%|                                                                          | 99/1503424 [01:07<201:13:47,  2.08it/s]\n",
      "  0%|                                                                         | 100/1503424 [01:09<331:39:52,  1.26it/s]\n",
      "  0%|                                                                         | 101/1503424 [01:10<314:56:20,  1.33it/s]\n",
      "  0%|                                                                         | 102/1503424 [01:11<415:54:27,  1.00it/s]\n",
      "  0%|                                                                         | 103/1503424 [01:12<367:15:32,  1.14it/s]\n",
      "  0%|                                                                         | 104/1503424 [01:12<314:06:16,  1.33it/s]\n",
      "  0%|                                                                         | 105/1503424 [01:14<428:30:44,  1.03s/it]\n",
      "  0%|                                                                         | 106/1503424 [01:15<377:12:32,  1.11it/s]\n",
      "  0%|                                                                         | 107/1503424 [01:15<369:41:12,  1.13it/s]\n",
      "  0%|                                                                         | 108/1503424 [01:16<363:17:10,  1.15it/s]\n",
      "  0%|                                                                         | 109/1503424 [01:18<412:49:13,  1.01it/s]\n",
      "  0%|                                                                         | 110/1503424 [01:18<354:09:56,  1.18it/s]\n",
      "  0%|                                                                         | 111/1503424 [01:18<281:57:22,  1.48it/s]\n",
      "  0%|                                                                         | 112/1503424 [01:20<370:57:44,  1.13it/s]\n",
      "  0%|                                                                         | 113/1503424 [01:20<287:18:40,  1.45it/s]\n",
      "  0%|                                                                         | 114/1503424 [01:20<261:39:42,  1.60it/s]\n",
      "  0%|                                                                         | 115/1503424 [01:21<246:50:36,  1.69it/s]\n",
      "  0%|                                                                         | 116/1503424 [01:22<254:11:21,  1.64it/s]\n",
      "  0%|                                                                         | 117/1503424 [01:22<229:10:37,  1.82it/s]\n",
      "  0%|                                                                         | 118/1503424 [01:23<243:42:11,  1.71it/s]\n",
      "  0%|                                                                         | 119/1503424 [01:23<243:41:48,  1.71it/s]\n",
      "  0%|                                                                         | 120/1503424 [01:24<265:55:44,  1.57it/s]\n",
      "  0%|                                                                         | 121/1503424 [01:25<258:44:54,  1.61it/s]\n",
      "  0%|                                                                         | 122/1503424 [01:25<248:42:19,  1.68it/s]\n",
      "  0%|                                                                         | 123/1503424 [01:26<259:30:14,  1.61it/s]\n",
      "  0%|                                                                         | 124/1503424 [01:26<228:52:55,  1.82it/s]\n",
      "  0%|                                                                         | 125/1503424 [01:27<216:52:00,  1.93it/s]\n",
      "  0%|                                                                         | 126/1503424 [01:27<214:51:43,  1.94it/s]\n",
      "  0%|                                                                         | 127/1503424 [01:28<213:12:42,  1.96it/s]\n",
      "  0%|                                                                         | 128/1503424 [01:28<180:16:25,  2.32it/s]\n",
      "  0%|                                                                         | 129/1503424 [01:29<211:51:23,  1.97it/s]\n",
      "  0%|                                                                         | 130/1503424 [01:29<257:19:36,  1.62it/s]\n",
      "  0%|                                                                         | 131/1503424 [01:30<241:02:43,  1.73it/s]\n",
      "  0%|                                                                         | 132/1503424 [01:31<260:33:05,  1.60it/s]\n",
      "  0%|                                                                         | 133/1503424 [01:32<362:15:25,  1.15it/s]\n",
      "  0%|                                                                         | 134/1503424 [01:32<283:51:16,  1.47it/s]\n"
     ]
    },
    {
     "name": "stderr",
     "output_type": "stream",
     "text": [
      "  0%|                                                                         | 135/1503424 [01:33<282:54:17,  1.48it/s]\n",
      "  0%|                                                                         | 136/1503424 [01:33<226:25:15,  1.84it/s]\n",
      "  0%|                                                                         | 137/1503424 [01:34<271:55:06,  1.54it/s]\n",
      "  0%|                                                                         | 138/1503424 [01:34<219:17:10,  1.90it/s]\n",
      "  0%|                                                                         | 139/1503424 [01:35<207:12:17,  2.02it/s]\n",
      "  0%|                                                                         | 140/1503424 [01:35<221:13:28,  1.89it/s]\n",
      "  0%|                                                                         | 141/1503424 [01:36<242:10:40,  1.72it/s]\n",
      "  0%|                                                                         | 142/1503424 [01:37<239:41:06,  1.74it/s]\n",
      "  0%|                                                                         | 143/1503424 [01:37<196:59:13,  2.12it/s]\n",
      "  0%|                                                                         | 144/1503424 [01:39<363:07:35,  1.15it/s]\n",
      "  0%|                                                                         | 145/1503424 [01:40<429:55:06,  1.03s/it]\n",
      "  0%|                                                                         | 146/1503424 [01:41<385:47:44,  1.08it/s]\n",
      "  0%|                                                                         | 147/1503424 [01:41<331:14:03,  1.26it/s]\n",
      "  0%|                                                                         | 148/1503424 [01:42<287:30:25,  1.45it/s]\n",
      "  0%|                                                                         | 149/1503424 [01:43<305:15:26,  1.37it/s]\n",
      "  0%|                                                                         | 150/1503424 [01:43<293:41:29,  1.42it/s]\n",
      "  0%|                                                                         | 151/1503424 [01:44<265:22:22,  1.57it/s]\n",
      "  0%|                                                                         | 152/1503424 [01:45<354:42:35,  1.18it/s]\n",
      "  0%|                                                                         | 153/1503424 [01:46<348:55:16,  1.20it/s]\n",
      "  0%|                                                                         | 154/1503424 [01:46<324:21:20,  1.29it/s]\n",
      "  0%|                                                                         | 155/1503424 [01:47<254:42:15,  1.64it/s]\n",
      "  0%|                                                                         | 156/1503424 [01:48<293:35:31,  1.42it/s]\n",
      "  0%|                                                                         | 157/1503424 [01:48<288:51:35,  1.45it/s]\n",
      "  0%|                                                                         | 158/1503424 [01:49<275:33:24,  1.52it/s]\n",
      "  0%|                                                                         | 159/1503424 [01:50<345:36:04,  1.21it/s]\n",
      "  0%|                                                                         | 160/1503424 [01:51<315:16:17,  1.32it/s]\n",
      "  0%|                                                                         | 161/1503424 [01:51<266:17:05,  1.57it/s]\n",
      "  0%|                                                                         | 162/1503424 [01:52<269:10:24,  1.55it/s]\n",
      "  0%|                                                                         | 163/1503424 [01:52<273:42:38,  1.53it/s]\n",
      "  0%|                                                                         | 164/1503424 [01:53<268:27:54,  1.56it/s]\n",
      "  0%|                                                                         | 165/1503424 [01:53<240:56:02,  1.73it/s]\n",
      "  0%|                                                                         | 166/1503424 [01:54<263:36:45,  1.58it/s]\n",
      "  0%|                                                                         | 167/1503424 [01:55<277:50:57,  1.50it/s]\n",
      "  0%|                                                                         | 168/1503424 [01:56<318:05:38,  1.31it/s]\n",
      "  0%|                                                                         | 169/1503424 [01:56<293:07:34,  1.42it/s]\n",
      "  0%|                                                                         | 170/1503424 [01:57<264:18:54,  1.58it/s]\n",
      "  0%|                                                                         | 171/1503424 [01:57<248:19:31,  1.68it/s]\n",
      "  0%|                                                                         | 172/1503424 [01:58<267:09:08,  1.56it/s]\n",
      "  0%|                                                                         | 173/1503424 [01:59<338:44:27,  1.23it/s]\n",
      "  0%|                                                                         | 174/1503424 [02:00<305:26:38,  1.37it/s]\n",
      "  0%|                                                                         | 175/1503424 [02:00<280:37:56,  1.49it/s]\n",
      "  0%|                                                                         | 176/1503424 [02:01<263:08:18,  1.59it/s]\n",
      "  0%|                                                                         | 177/1503424 [02:02<253:01:41,  1.65it/s]\n",
      "  0%|                                                                         | 178/1503424 [02:02<280:29:31,  1.49it/s]\n",
      "  0%|                                                                         | 179/1503424 [02:03<256:45:36,  1.63it/s]\n",
      "  0%|                                                                         | 180/1503424 [02:04<300:18:57,  1.39it/s]\n",
      "  0%|                                                                         | 181/1503424 [02:04<257:04:03,  1.62it/s]\n",
      "  0%|                                                                         | 182/1503424 [02:05<301:46:59,  1.38it/s]"
     ]
    }
   ],
   "source": [
    "map_translate(data).head()"
   ]
  },
  {
   "cell_type": "code",
   "execution_count": null,
   "metadata": {},
   "outputs": [],
   "source": []
  }
 ],
 "metadata": {
  "kernelspec": {
   "display_name": "Python 3",
   "language": "python",
   "name": "python3"
  },
  "language_info": {
   "codemirror_mode": {
    "name": "ipython",
    "version": 3
   },
   "file_extension": ".py",
   "mimetype": "text/x-python",
   "name": "python",
   "nbconvert_exporter": "python",
   "pygments_lexer": "ipython3",
   "version": "3.6.5"
  }
 },
 "nbformat": 4,
 "nbformat_minor": 2
}
