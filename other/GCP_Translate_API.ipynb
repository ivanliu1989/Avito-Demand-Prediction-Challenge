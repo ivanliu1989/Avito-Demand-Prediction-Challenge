{
 "cells": [
  {
   "cell_type": "code",
   "execution_count": 1,
   "metadata": {},
   "outputs": [],
   "source": [
    "import pandas as pd\n",
    "import numpy as np\n",
    "from google.cloud import translate\n",
    "\n",
    "# Instantiates a client\n",
    "translate_client = translate.Client(target_language='en')"
   ]
  },
  {
   "cell_type": "code",
   "execution_count": 2,
   "metadata": {},
   "outputs": [],
   "source": [
    "dat = pd.read_csv('../Avito-Demand-Prediction-Challenge/data/train.csv', usecols=['title','description'])"
   ]
  },
  {
   "cell_type": "code",
   "execution_count": 13,
   "metadata": {},
   "outputs": [],
   "source": [
    "text = dat.title"
   ]
  },
  {
   "cell_type": "code",
   "execution_count": 17,
   "metadata": {
    "scrolled": true
   },
   "outputs": [],
   "source": [
    "translation = translate_client.translate(text[:10], source_language='ru')\n",
    "dat_eng = pd.DataFrame(translation)"
   ]
  },
  {
   "cell_type": "code",
   "execution_count": 18,
   "metadata": {
    "scrolled": true
   },
   "outputs": [
    {
     "data": {
      "text/html": [
       "<div>\n",
       "<style scoped>\n",
       "    .dataframe tbody tr th:only-of-type {\n",
       "        vertical-align: middle;\n",
       "    }\n",
       "\n",
       "    .dataframe tbody tr th {\n",
       "        vertical-align: top;\n",
       "    }\n",
       "\n",
       "    .dataframe thead th {\n",
       "        text-align: right;\n",
       "    }\n",
       "</style>\n",
       "<table border=\"1\" class=\"dataframe\">\n",
       "  <thead>\n",
       "    <tr style=\"text-align: right;\">\n",
       "      <th></th>\n",
       "      <th>input</th>\n",
       "      <th>translatedText</th>\n",
       "    </tr>\n",
       "  </thead>\n",
       "  <tbody>\n",
       "    <tr>\n",
       "      <th>0</th>\n",
       "      <td>Кокоби(кокон для сна)</td>\n",
       "      <td>Kokobi (cocoon for sleep)</td>\n",
       "    </tr>\n",
       "    <tr>\n",
       "      <th>1</th>\n",
       "      <td>Стойка для Одежды</td>\n",
       "      <td>Rack for Clothes</td>\n",
       "    </tr>\n",
       "    <tr>\n",
       "      <th>2</th>\n",
       "      <td>Philips bluray</td>\n",
       "      <td>Philips bluray</td>\n",
       "    </tr>\n",
       "    <tr>\n",
       "      <th>3</th>\n",
       "      <td>Автокресло</td>\n",
       "      <td>Car seat</td>\n",
       "    </tr>\n",
       "    <tr>\n",
       "      <th>4</th>\n",
       "      <td>ВАЗ 2110, 2003</td>\n",
       "      <td>VAZ 2110, 2003</td>\n",
       "    </tr>\n",
       "  </tbody>\n",
       "</table>\n",
       "</div>"
      ],
      "text/plain": [
       "                   input             translatedText\n",
       "0  Кокоби(кокон для сна)  Kokobi (cocoon for sleep)\n",
       "1      Стойка для Одежды           Rack for Clothes\n",
       "2         Philips bluray             Philips bluray\n",
       "3             Автокресло                   Car seat\n",
       "4         ВАЗ 2110, 2003             VAZ 2110, 2003"
      ]
     },
     "execution_count": 18,
     "metadata": {},
     "output_type": "execute_result"
    }
   ],
   "source": [
    "dat_eng.head()"
   ]
  },
  {
   "cell_type": "code",
   "execution_count": 21,
   "metadata": {
    "scrolled": true
   },
   "outputs": [
    {
     "data": {
      "text/plain": [
       "0                              Kokobi (cocoon for sleep)\n",
       "1                                       Rack for Clothes\n",
       "2                                         Philips bluray\n",
       "3                                               Car seat\n",
       "4                                         VAZ 2110, 2003\n",
       "5                                            Auto cradle\n",
       "6           Water heater 100 liters stainless steel flat\n",
       "7                                      Boyfriends colins\n",
       "8                                                  Dress\n",
       "9                       Half boots chamois natur.Bambini\n",
       "10                   1-to the apartment, 25 m ², 2/2 fl.\n",
       "11                                                 Jeans\n",
       "12                  Atlases and Contour maps for Grade 8\n",
       "13                                     Monitor acer 18.5\n",
       "14                      German Shepherd puppies for sale\n",
       "15                                     Women&#39;s dress\n",
       "16                                 Chevrolet Lanos, 2008\n",
       "17                                    Volumetric digit 2\n",
       "18                                Spring jacket (autumn)\n",
       "19                                        Hire a cottage\n",
       "20                   2-to the apartment, 44 m ², 5/5 fl.\n",
       "21                                              Mink hat\n",
       "22                                      Ford Focus, 2005\n",
       "23                                        Shoes moschino\n",
       "24                                      Bravecto tablets\n",
       "25                              Pinky Pai My Little Pony\n",
       "26                                             Lambriken\n",
       "27                                                 Boots\n",
       "28                           I&#39;m selling a new dress\n",
       "29                                     Crockid Sandpiper\n",
       "                             ...                        \n",
       "970                                  Packets for packing\n",
       "971                                      Ravioli machine\n",
       "972          Bandage Orlett on the knee joint RKN-202 XL\n",
       "973                                          Chairs ikea\n",
       "974                    Asus ZenFone 2 laser ze500kl 16gb\n",
       "975                             Bedspread-blanket summer\n",
       "976                                 Buy 2-room apartment\n",
       "977                  2-to the apartment, 38 m ², 2/2 fl.\n",
       "978         Mobile machine for turning locomotive wheels\n",
       "979                Repair and maintenance of PVC windows\n",
       "980                                    Textbook for sale\n",
       "981                                             Sony PS3\n",
       "982                                 Children&#39;s Dress\n",
       "983                                                Dress\n",
       "984                                                  Bra\n",
       "985                                I&#39;ll give the cat\n",
       "986                                     Netbook acer ze6\n",
       "987                                 Bergauf Bottom Floor\n",
       "988                                 Spring-autumn jacket\n",
       "989                                Demagogue&#39;s boots\n",
       "990                             Beautiful room megaphone\n",
       "991    Garbage removal, dump truck delivery from 1t u...\n",
       "992                             Skirt of Kira Plastinina\n",
       "993                                        Italian shoes\n",
       "994                   Set on a statement for a gentleman\n",
       "995                     I&#39;m looking for Adidas shoes\n",
       "996                       Selling disk lara croft to psp\n",
       "997              Cottage 150 m² on a plot of 12 hundred.\n",
       "998                                    Hyundai i30, 2012\n",
       "999                                         Rocks window\n",
       "Name: title, Length: 1000, dtype: object"
      ]
     },
     "execution_count": 21,
     "metadata": {},
     "output_type": "execute_result"
    }
   ],
   "source": [
    "text[:1000].apply(lambda x:translate_client.translate(x, source_language='ru')['translatedText'])"
   ]
  },
  {
   "cell_type": "code",
   "execution_count": 26,
   "metadata": {},
   "outputs": [
    {
     "data": {
      "text/plain": [
       "75.1712"
      ]
     },
     "execution_count": 26,
     "metadata": {},
     "output_type": "execute_result"
    }
   ],
   "source": [
    "len(text)/1000 * 3 / 60"
   ]
  },
  {
   "cell_type": "code",
   "execution_count": null,
   "metadata": {},
   "outputs": [],
   "source": []
  }
 ],
 "metadata": {
  "kernelspec": {
   "display_name": "Python 3",
   "language": "python",
   "name": "python3"
  },
  "language_info": {
   "codemirror_mode": {
    "name": "ipython",
    "version": 3
   },
   "file_extension": ".py",
   "mimetype": "text/x-python",
   "name": "python",
   "nbconvert_exporter": "python",
   "pygments_lexer": "ipython3",
   "version": "3.6.5"
  }
 },
 "nbformat": 4,
 "nbformat_minor": 2
}
